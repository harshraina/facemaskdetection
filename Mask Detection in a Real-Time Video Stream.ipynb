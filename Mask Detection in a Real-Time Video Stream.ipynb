{
 "cells": [
  {
   "cell_type": "markdown",
   "metadata": {},
   "source": [
    "# Importing Libraries"
   ]
  },
  {
   "cell_type": "code",
   "execution_count": 2,
   "metadata": {},
   "outputs": [
    {
     "name": "stderr",
     "output_type": "stream",
     "text": [
      "Using TensorFlow backend.\n"
     ]
    }
   ],
   "source": [
    "import numpy as np\n",
    "import cv2\n",
    "import skimage.transform\n",
    "import imutils\n",
    "import time\n",
    "\n",
    "from imutils.video import VideoStream\n",
    "from matplotlib import pyplot as plt\n",
    "from keras.models import load_model"
   ]
  },
  {
   "cell_type": "code",
   "execution_count": 1,
   "metadata": {},
   "outputs": [
    {
     "name": "stdout",
     "output_type": "stream",
     "text": [
      "Requirement already satisfied: imutils in c:\\anaconda\\envs\\tensorflow_env\\lib\\site-packages (0.5.3)\n",
      "Note: you may need to restart the kernel to use updated packages.\n"
     ]
    }
   ],
   "source": [
    "pip install imutils"
   ]
  },
  {
   "cell_type": "markdown",
   "metadata": {},
   "source": [
    "# Defining Mask Detection Function"
   ]
  },
  {
   "cell_type": "code",
   "execution_count": 3,
   "metadata": {},
   "outputs": [],
   "source": [
    "def detect_and_predict_mask(Frame, FaceNet, MaskNet):\n",
    "    \n",
    "    faces = []\n",
    "    face_count = 0\n",
    "    locs = []\n",
    "    prediction = []\n",
    "    \n",
    "    (h, w) = Frame.shape[:2]\n",
    "    \n",
    "    # Making a Blob of Dimension (300x300)\n",
    "    blob = cv2.dnn.blobFromImage(frame, 1.0, (300, 300),(104.0, 177.0, 123.0))\n",
    "    \n",
    "    # Detecting Faces via Caffe Model\n",
    "    FaceNet.setInput(blob)\n",
    "    detections = FaceNet.forward()\n",
    "    \n",
    "    for i in range(0, detections.shape[2]):\n",
    "        \n",
    "        confidence = detections[0, 0, i, 2]\n",
    "        # In Detections 0,0,i,2 is the confidence while 0,0,i,3:7 are location of the box\n",
    "        \n",
    "        # If confidence of the detected object of being a face is above 0.5 then only it is taken into consideration\n",
    "        if confidence > 0.5:\n",
    "            \n",
    "            # Getting the Box location from the Detection\n",
    "            box = detections[0, 0, i, 3:7] * np.array([w, h, w, h])\n",
    "            (startX, startY, endX, endY) = box.astype(\"int\")\n",
    "            \n",
    "            # If Box exceed the Image Boundaries\n",
    "            (startX, startY) = (max(0, startX), max(0, startY))\n",
    "            (endX, endY) = (min(w - 1, endX), min(h - 1, endY))\n",
    "            \n",
    "            ## PRE-PROCESSING THE FACES ##\n",
    "            \n",
    "            # Croping only the face which will be feeded to the model\n",
    "            face = Frame[startY:endY, startX:endX]\n",
    "            # Converting Image to Grayscale as Mask-Detection model is trained on it\n",
    "            face = np.dot(face,[0.2989, 0.5870, 0.1140])\n",
    "            # Resizing Gray Image ---> (200x200)\n",
    "            face = skimage.transform.resize(face, (200, 200))\n",
    "            # Scaling Gray-Values Between 0 and 1\n",
    "            face = face/255\n",
    "            # Re-Dimensioning to 4D array that will be feeded to the CNN\n",
    "            face = np.expand_dims(face, -3)\n",
    "            face = np.expand_dims(face, -1)\n",
    "            \n",
    "            face_count =+ 1\n",
    "            faces.append(face)\n",
    "            locs.append((startX, startY, endX, endY))\n",
    "            \n",
    "    for i in range(face_count):\n",
    "        \n",
    "        # Predicting if the person is wearing a mask or not\n",
    "        pred = MaskNet.predict(faces[i])\n",
    "        prediction.append(pred)\n",
    "        \n",
    "    # Returning the Location of the Box and Prediction\n",
    "    return (locs, prediction)"
   ]
  },
  {
   "cell_type": "markdown",
   "metadata": {},
   "source": [
    "# Initializing Face-Detection and Mask-Detection Network"
   ]
  },
  {
   "cell_type": "code",
   "execution_count": 5,
   "metadata": {},
   "outputs": [
    {
     "name": "stdout",
     "output_type": "stream",
     "text": [
      "WARNING:tensorflow:Large dropout rate: 0.6 (>0.5). In TensorFlow 2.x, dropout() uses dropout rate instead of keep_prob. Please ensure that this is intended.\n"
     ]
    }
   ],
   "source": [
    "prototxtPath = (\"Resources/face_detector/deploy.prototxt\")\n",
    "weightsPath = (\"Resources/face_detector/res10_300x300_ssd_iter_140000.caffemodel\")\n",
    "\n",
    "# Loading Caffe-Model for Face Detection\n",
    "FaceNet = cv2.dnn.readNet(prototxtPath,weightsPath)\n",
    "\n",
    "# Loading Mask-Detection-Model\n",
    "MaskNet = load_model('Resources/mask_detector/detector-model')"
   ]
  },
  {
   "cell_type": "markdown",
   "metadata": {},
   "source": [
    "# Initializing Video-Stream"
   ]
  },
  {
   "cell_type": "code",
   "execution_count": 6,
   "metadata": {},
   "outputs": [],
   "source": [
    "vs = VideoStream(src=0).start()\n",
    "time.sleep(0.5)"
   ]
  },
  {
   "cell_type": "markdown",
   "metadata": {},
   "source": [
    "# Looping over Frames in Stream and Detecting Faces With or Without Mask"
   ]
  },
  {
   "cell_type": "code",
   "execution_count": null,
   "metadata": {},
   "outputs": [],
   "source": [
    "while True:\n",
    "    \n",
    "    frame = vs.read()\n",
    "    frame = imutils.resize(frame, width=720)\n",
    "    \n",
    "    (locs, preds) = detect_and_predict_mask(frame, FaceNet, MaskNet)\n",
    "    \n",
    "    \n",
    "    ## DRAWING BOXES AROUND DETECTED FACES ##\n",
    "    \n",
    "    for (box, pred) in zip(locs, preds):\n",
    "        \n",
    "        (startX, startY, endX, endY) = box\n",
    "        (mask, withoutMask) = pred[0]\n",
    "        \n",
    "        label = \"MASK\" if mask > withoutMask else \"NO MASK\"\n",
    "        color = (0, 255, 0) if label == \"MASK\" else (0, 0, 255)\n",
    "        \n",
    "        label = \"{}: {:.2f}%\".format(label, max(mask, withoutMask) * 100)\n",
    "        \n",
    "        cv2.putText(frame, label, (startX, startY - 10),\n",
    "        cv2.FONT_HERSHEY_SIMPLEX, 0.75, color, 2)\n",
    "        cv2.rectangle(frame, (startX, startY), (endX, endY), color, 2)\n",
    "        \n",
    "    cv2.imshow(\"Video-Stream\", frame)\n",
    "    \n",
    "    # Closing the Video Stream when 'q' is pressed\n",
    "    if cv2.waitKey(1) & 0xFF == ord(\"q\"):\n",
    "        break\n",
    "            \n",
    "cv2.destroyAllWindows()\n",
    "vs.stop()"
   ]
  }
 ],
 "metadata": {
  "kernelspec": {
   "display_name": "Python 3",
   "language": "python",
   "name": "python3"
  },
  "language_info": {
   "codemirror_mode": {
    "name": "ipython",
    "version": 3
   },
   "file_extension": ".py",
   "mimetype": "text/x-python",
   "name": "python",
   "nbconvert_exporter": "python",
   "pygments_lexer": "ipython3",
   "version": "3.6.10"
  }
 },
 "nbformat": 4,
 "nbformat_minor": 4
}
